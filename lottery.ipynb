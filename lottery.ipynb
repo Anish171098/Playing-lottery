{
 "cells": [
  {
   "cell_type": "code",
   "execution_count": 1,
   "metadata": {},
   "outputs": [
    {
     "name": "stdout",
     "output_type": "stream",
     "text": [
      "Enter your 6 numbers, separated by commas: 1,2,3,4,5,6\n",
      "Sorry. Try next time!\n"
     ]
    }
   ],
   "source": [
    "import random\n",
    "\n",
    "def menu():\n",
    "    # Ask player for numbers\n",
    "    user_numbers = get_player_numbers()\n",
    "\n",
    "    # Calculate lottery numbers\n",
    "    lottery_numbers = create_lottery_numbers()\n",
    "\n",
    "    # Print out the winnings\n",
    "    matched_numbers = user_numbers.intersection(lottery_numbers)\n",
    "    if(len(matched_numbers) != 0):\n",
    "        print(\"You matched {}. You won ${}!\".format(matched_numbers, 100 ** len(matched_numbers)))\n",
    "    if(len(matched_numbers) == 0):\n",
    "        print(\"Sorry. Try next time!\") \n",
    "\n",
    "\n",
    "# User can pick 6 numbers\n",
    "def get_player_numbers():\n",
    "    number_csv = input(\"Enter your 6 numbers, separated by commas: \")\n",
    "    # Now, I want to create a set of integers from this number_csv\n",
    "    \n",
    "    integer_set = {int(number) for number in number_csv}\n",
    "    return integer_set\n",
    "\n",
    "\n",
    "# Lottery calculates 6 random numbers (between 1 and 20)\n",
    "def create_lottery_numbers():\n",
    "    values = set()  # Cannot initialise like so: {}\n",
    "    while len(values) < 6:\n",
    "        values.add(random.randint(1, 100))\n",
    "    return values\n",
    "\n",
    "menu()"
   ]
  },
  {
   "cell_type": "code",
   "execution_count": null,
   "metadata": {},
   "outputs": [],
   "source": []
  }
 ],
 "metadata": {
  "kernelspec": {
   "display_name": "Python 2",
   "language": "python",
   "name": "python2"
  },
  "language_info": {
   "codemirror_mode": {
    "name": "ipython",
    "version": 2
   },
   "file_extension": ".py",
   "mimetype": "text/x-python",
   "name": "python",
   "nbconvert_exporter": "python",
   "pygments_lexer": "ipython2",
   "version": "2.7.16"
  }
 },
 "nbformat": 4,
 "nbformat_minor": 2
}
